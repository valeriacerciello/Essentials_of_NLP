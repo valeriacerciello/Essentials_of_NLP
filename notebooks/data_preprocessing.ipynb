{
 "cells": [
  {
   "cell_type": "code",
   "execution_count": 1,
   "metadata": {},
   "outputs": [],
   "source": [
    "import pandas as pd\n",
    "import spacy\n",
    "import os"
   ]
  },
  {
   "cell_type": "code",
   "execution_count": 2,
   "metadata": {},
   "outputs": [],
   "source": [
    "preprocessed_dir = '../data/preprocessed'\n",
    "os.makedirs(preprocessed_dir, exist_ok=True)"
   ]
  },
  {
   "cell_type": "code",
   "execution_count": 3,
   "metadata": {},
   "outputs": [],
   "source": [
    "df_obama = pd.read_json(\"../data/raw/obama_press_releases.json\")\n",
    "df_trump = pd.read_json(\"../data/raw/trump_press_releases.json\")\n",
    "df_biden = pd.read_json(\"../data/raw/biden_press_releases.json\")"
   ]
  },
  {
   "cell_type": "code",
   "execution_count": 4,
   "metadata": {},
   "outputs": [
    {
     "name": "stdout",
     "output_type": "stream",
     "text": [
      "                                                link  \\\n",
      "0  https://2009-2017.state.gov/r/pa/prs/ps/2009/d...   \n",
      "1  https://2009-2017.state.gov/r/pa/prs/ps/2009/d...   \n",
      "2  https://2009-2017.state.gov/r/pa/prs/ps/2009/d...   \n",
      "3  https://2009-2017.state.gov/secretary/20092013...   \n",
      "4  https://2009-2017.state.gov/r/pa/prs/ps/2009/d...   \n",
      "\n",
      "                                    title_of_release  \\\n",
      "0                 Michelle Kwan To Visit South Korea   \n",
      "1  U.S. Department of State Honors Nestor Tedesco...   \n",
      "2                           Burma's Independence Day   \n",
      "3                 Republic of Haiti Independence Day   \n",
      "4                U.S. Welcomes Chad-Sudan Engagement   \n",
      "\n",
      "                                               title    document_type  \\\n",
      "0                 Michelle Kwan To Visit South Korea       Media Note   \n",
      "1  U.S. Department of State Honors Nestor Tedesco...       Media Note   \n",
      "2                           Burma's Independence Day  Press Statement   \n",
      "3                 Republic of Haiti Independence Day  Press Statement   \n",
      "4                U.S. Welcomes Chad-Sudan Engagement  Press Statement   \n",
      "\n",
      "           document_author    document_author_name document_author_title  \\\n",
      "0  Office of the Spokesman                    None                         \n",
      "1  Office of the Spokesman                    None                         \n",
      "2                                        Ian Kelly  Department Spokesman   \n",
      "3                           Hillary Rodham Clinton    Secretary of State   \n",
      "4                                        Ian Kelly  Department Spokesman   \n",
      "\n",
      "        publish_date                                               text tags  \n",
      "0  December 31, 2009  [Michelle Kwan will visit Korea for the U.S. D...   []  \n",
      "1  December 31, 2009  [The U.S. Department of State has named Nestor...   []  \n",
      "2  December 30, 2009  [Monday, January 4, 2010, marks the 62nd anniv...   []  \n",
      "3  December 29, 2009  [On behalf of President Obama and the people o...   []  \n",
      "4  December 29, 2009  [The United States welcomes the continued enga...   []  \n",
      "   type_of_release                                   title_of_release  \\\n",
      "0       Media Note  Fulbright Program Partners with National Archi...   \n",
      "1        Interview  Secretary Michael R. Pompeo With John Roberts ...   \n",
      "2  Press Statement  Determination of the Secretary of State on Atr...   \n",
      "3       Media Note   Update on Advancing Women’s Economic Empowerment   \n",
      "4  Press Statement  The United States Takes Further Action Against...   \n",
      "\n",
      "                                                link              date  \\\n",
      "0  https://2017-2021.state.gov/fulbright-program-...  January 19, 2021   \n",
      "1  https://2017-2021.state.gov/secretary-michael-...                     \n",
      "2  https://2017-2021.state.gov/determination-of-t...                     \n",
      "3  https://2017-2021.state.gov/update-on-advancin...  January 19, 2021   \n",
      "4  https://2017-2021.state.gov/the-united-states-...                     \n",
      "\n",
      "                                            page_url  \\\n",
      "0        https://2017-2021.state.gov/press-releases/   \n",
      "1  https://2017-2021.state.gov/press-releases/pag...   \n",
      "2  https://2017-2021.state.gov/press-releases/pag...   \n",
      "3  https://2017-2021.state.gov/press-releases/pag...   \n",
      "4  https://2017-2021.state.gov/press-releases/pag...   \n",
      "\n",
      "                                               title    document_type  \\\n",
      "0  Fulbright Program Partners with National Archi...       Media Note   \n",
      "1  Secretary Michael R. Pompeo With John Roberts ...        Interview   \n",
      "2  Determination of the Secretary of State on Atr...  Press Statement   \n",
      "3   Update on Advancing Women’s Economic Empowerment       Media Note   \n",
      "4  The United States Takes Further Action Against...  Press Statement   \n",
      "\n",
      "                         document_author      publish_date  \\\n",
      "0             Office of the Spokesperson  January 19, 2021   \n",
      "1  Michael R. Pompeo, Secretary of State  January 19, 2021   \n",
      "2  Michael R. Pompeo, Secretary of State  January 19, 2021   \n",
      "3             Office of the Spokesperson  January 19, 2021   \n",
      "4  Michael R. Pompeo, Secretary of State  January 19, 2021   \n",
      "\n",
      "                                                text  \\\n",
      "0  [The U.S. Department of State, the Fulbright F...   \n",
      "1  [QUESTION:  A Fox News alert now, the United S...   \n",
      "2  [The United States of America has led the worl...   \n",
      "3  [On January 13, the U.S. Department of State r...   \n",
      "4  [The United States has sanctioned three indivi...   \n",
      "\n",
      "                                                tags  \n",
      "0  [{'tag_name': 'Bureau of Educational and Cultu...  \n",
      "1  [{'tag_name': 'Bureau of Democracy, Human Righ...  \n",
      "2  [{'tag_name': 'Arbitration', 'tag_link': 'http...  \n",
      "3  [{'tag_name': 'Bureau of Economic and Business...  \n",
      "4  [{'tag_name': 'Bureau of Energy Resources', 't...  \n",
      "   type_of_release                                   title_of_release  \\\n",
      "0       Media Note  Under Secretary Fernandez’s Travel to Chile, U...   \n",
      "1       Media Note  Assistant Secretary of State for the Bureau of...   \n",
      "2  Press Statement  Secretary Blinken’s Travel to Tel Aviv, Amman,...   \n",
      "3          Readout  Secretary Blinken’s Meeting with Lebanese Care...   \n",
      "4       Media Note       Assistant Secretary Phee’s Travel to Namibia   \n",
      "\n",
      "                                                link              date  \\\n",
      "0  https://www.state.gov/under-secretary-fernande...  November 4, 2023   \n",
      "1  https://www.state.gov/assistant-secretary-of-s...  November 4, 2023   \n",
      "2  https://www.state.gov/secretary-blinkens-trave...  November 4, 2023   \n",
      "3  https://www.state.gov/secretary-blinkens-meeti...  November 4, 2023   \n",
      "4  https://www.state.gov/assistant-secretary-phee...  November 4, 2023   \n",
      "\n",
      "                                            page_url  \\\n",
      "0  https://www.state.gov/press-releases/?results=...   \n",
      "1  https://www.state.gov/press-releases/page/2/?r...   \n",
      "2  https://www.state.gov/press-releases/page/2/?r...   \n",
      "3  https://www.state.gov/press-releases/page/2/?r...   \n",
      "4  https://www.state.gov/press-releases/page/2/?r...   \n",
      "\n",
      "                                               title    document_type  \\\n",
      "0  Under Secretary Fernandez’s Travel to Chile, U...       Media Note   \n",
      "1  Assistant Secretary of State for the Bureau of...       Media Note   \n",
      "2  Secretary Blinken’s Travel to Tel Aviv, Amman,...  Press Statement   \n",
      "3  Secretary Blinken’s Meeting with Lebanese Care...          Readout   \n",
      "4       Assistant Secretary Phee’s Travel to Namibia       Media Note   \n",
      "\n",
      "                           document_author      publish_date  \\\n",
      "0               Office of the Spokesperson  November 4, 2023   \n",
      "1               Office of the Spokesperson  November 4, 2023   \n",
      "2  Matthew Miller, Department Spokesperson  November 4, 2023   \n",
      "3               Office of the Spokesperson  November 4, 2023   \n",
      "4               Office of the Spokesperson  November 4, 2023   \n",
      "\n",
      "                                                text  \\\n",
      "0  [Under Secretary of State for Economic Growth,...   \n",
      "1  [Assistant Secretary of State for South and Ce...   \n",
      "2  [Secretary of State Antony J. Blinken will tra...   \n",
      "3  [The below is attributable to Spokesperson Mat...   \n",
      "4  [Assistant Secretary of State for African Affa...   \n",
      "\n",
      "                                                tags  \n",
      "0  [{'tag_name': 'Bureau of Energy Resources', 't...  \n",
      "1  [{'tag_name': 'Bureau of Democracy, Human Righ...  \n",
      "2  [{'tag_name': 'Bureau of East Asian and Pacifi...  \n",
      "3  [{'tag_name': 'Bureau of Near Eastern Affairs'...  \n",
      "4  [{'tag_name': 'Bureau of African Affairs', 'ta...  \n"
     ]
    }
   ],
   "source": [
    "print(df_obama.head())\n",
    "print(df_trump.head())\n",
    "print(df_biden.head())"
   ]
  },
  {
   "cell_type": "markdown",
   "metadata": {},
   "source": [
    "Fields in our datasets:\n",
    "- link: URL of the original press release.\n",
    "- title_of_release: The title of the press release\n",
    "- title: The shortened or reformatted title.\n",
    "- document_type: Type of the document (e.g., Media Note, Press Statement, Interview).\n",
    "- document_author: The entity or person responsible for the release.\n",
    "- publish_date: The date the document was published.\n",
    "- text: The body text of the release.\n",
    "- tags: Tags associated with the press release."
   ]
  },
  {
   "cell_type": "markdown",
   "metadata": {},
   "source": [
    "Preprocessing choices:\n",
    "\n",
    "We tokenize the text into phrases keepig capitalization for named entities.\n",
    "\n",
    "We remove punctuation.\n",
    "\n",
    "We prepare the text for the Hugging Face NER model.\n",
    "\n",
    "We'll use SpaCy for basic text preprocessing (tokenization and punctuation removal) because it integrates well with Hugging Face models."
   ]
  },
  {
   "cell_type": "code",
   "execution_count": 5,
   "metadata": {},
   "outputs": [],
   "source": [
    "nlp = spacy.load(\"en_core_web_sm\")"
   ]
  },
  {
   "cell_type": "code",
   "execution_count": 6,
   "metadata": {},
   "outputs": [],
   "source": [
    "# text preprocessing: tokenization + remove punctuation + retain capitalization for NEs\n",
    "def preprocess_text(text):\n",
    "    if isinstance(text, list):   # our text is column contains lists instead of strings, so we have to join list elements into a string\n",
    "        text = \" \".join(text)\n",
    "    doc = nlp(text)\n",
    "    tokens = [token.text if token.ent_type_ else token.text.lower() \n",
    "              for token in doc if not token.is_punct]\n",
    "    return \" \".join(tokens)"
   ]
  },
  {
   "cell_type": "code",
   "execution_count": 7,
   "metadata": {},
   "outputs": [],
   "source": [
    "df_obama['text'] = df_obama['text'].apply(lambda x: \" \".join(x) if isinstance(x, list) else x)\n",
    "df_obama['processed_text'] = df_obama['text'].apply(preprocess_text)"
   ]
  },
  {
   "cell_type": "code",
   "execution_count": 8,
   "metadata": {},
   "outputs": [
    {
     "name": "stdout",
     "output_type": "stream",
     "text": [
      "                                                text  \\\n",
      "0  Michelle Kwan will visit Korea for the U.S. De...   \n",
      "1  The U.S. Department of State has named Nestor ...   \n",
      "2  Monday, January 4, 2010, marks the 62nd annive...   \n",
      "3  On behalf of President Obama and the people of...   \n",
      "4  The United States welcomes the continued engag...   \n",
      "\n",
      "                                      processed_text  \n",
      "0  Michelle Kwan will visit Korea for the U.S. De...  \n",
      "1  The U.S. Department of State has named Nestor ...  \n",
      "2  Monday January 4 2010 marks the 62nd anniversa...  \n",
      "3  on behalf of president Obama and the people of...  \n",
      "4  The United States welcomes the continued engag...  \n"
     ]
    }
   ],
   "source": [
    "print(df_obama[['text', 'processed_text']].head()) # just checking if it worked"
   ]
  },
  {
   "cell_type": "code",
   "execution_count": 9,
   "metadata": {},
   "outputs": [],
   "source": [
    "df_obama.to_json(os.path.join(preprocessed_dir, 'obama_preprocessed.json'), orient='records', lines=True)"
   ]
  },
  {
   "cell_type": "code",
   "execution_count": 10,
   "metadata": {},
   "outputs": [],
   "source": [
    "df_trump['text'] = df_trump['text'].apply(lambda x: \" \".join(x) if isinstance(x, list) else x)\n",
    "df_trump['processed_text'] = df_trump['text'].apply(preprocess_text)\n",
    "df_trump.to_json(os.path.join(preprocessed_dir, 'trump_preprocessed.json'), orient='records', lines=True)"
   ]
  },
  {
   "cell_type": "code",
   "execution_count": 11,
   "metadata": {},
   "outputs": [],
   "source": [
    "df_biden['text'] = df_biden['text'].apply(lambda x: \" \".join(x) if isinstance(x, list) else x)\n",
    "df_biden['processed_text'] = df_biden['text'].apply(preprocess_text)\n",
    "df_biden.to_json(os.path.join(preprocessed_dir, 'biden_preprocessed.json'), orient='records', lines=True)"
   ]
  },
  {
   "cell_type": "code",
   "execution_count": null,
   "metadata": {},
   "outputs": [],
   "source": []
  }
 ],
 "metadata": {
  "kernelspec": {
   "display_name": "Python 3",
   "language": "python",
   "name": "python3"
  },
  "language_info": {
   "codemirror_mode": {
    "name": "ipython",
    "version": 3
   },
   "file_extension": ".py",
   "mimetype": "text/x-python",
   "name": "python",
   "nbconvert_exporter": "python",
   "pygments_lexer": "ipython3",
   "version": "3.12.5"
  }
 },
 "nbformat": 4,
 "nbformat_minor": 2
}
