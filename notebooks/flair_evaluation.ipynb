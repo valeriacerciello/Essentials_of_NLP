{
 "cells": [
  {
   "cell_type": "code",
   "execution_count": 7,
   "outputs": [],
   "source": [
    "import csv\n",
    "import ast\n",
    "import json\n",
    "from sklearn.metrics import precision_score, recall_score, f1_score"
   ],
   "metadata": {
    "collapsed": false,
    "ExecuteTime": {
     "end_time": "2024-10-21T13:02:06.366824Z",
     "start_time": "2024-10-21T13:02:02.271783Z"
    }
   },
   "id": "9913d623557c3d37"
  },
  {
   "cell_type": "code",
   "execution_count": 8,
   "outputs": [
    {
     "name": "stdout",
     "output_type": "stream",
     "text": [
      "[('United Nations', 'ORG'), ('Contact Group on Piracy off the Coast of Somalia', 'ORG'), ('United States', 'ORG'), ('New York Declaration', 'ORG'), ('International Ship and Port Facility Security Code', 'ORG'), ('Panama', 'ORG'), ('Bahamas', 'ORG'), ('Liberia', 'ORG'), ('Marshall Islands', 'ORG'), ('NATO', 'ORG'), ('European Union', 'ORG'), ('Somalia', 'LOC'), ('Coast of Somalia', 'LOC'), ('United States', 'LOC'), ('New York', 'LOC'), ('Horn of Africa', 'LOC'), ('piracy', 'MISC'), ('Syrian Embassy', 'ORG'), ('United States', 'ORG'), ('State Department', 'ORG'), ('Honorary Consuls', 'ORG'), ('Vienna Convention on Diplomatic Relations', 'ORG'), ('United States', 'LOC'), ('Michigan', 'LOC'), ('Texas', 'LOC'), ('Washington', 'LOC'), ('Syria', 'LOC'), ('Syrian ambassador', 'PER'), ('Clinton', 'PER'), ('Lavrov', 'PER'), ('Obama', 'PER'), ('Medvedev', 'PER'), ('United States', 'ORG'), ('G-20', 'ORG'), ('NATO', 'ORG'), ('NATO Russia Council', 'ORG'), ('Russia', 'ORG'), ('START', 'ORG'), ('Russian Federation', 'ORG'), ('Euro Atlantic', 'ORG'), ('Quartet', 'ORG'), ('Afghanistan', 'LOC'), ('Iran', 'LOC'), ('North Korea', 'LOC'), ('Georgia', 'LOC'), ('London', 'LOC'), ('Horn of Africa', 'LOC'), ('arms control', 'MISC'), ('nonproliferation', 'MISC'), ('nuclear weapons', 'MISC'), ('Judith Heumann', 'PER'), ('Mexico', 'LOC'), ('Mexico City', 'LOC'), ('United States', 'LOC'), ('United States', 'ORG'), ('international disability rights', 'MISC'), ('accessibility', 'MISC'), ('inclusive education', 'MISC'), ('Catherine A. Novelli', 'PER'), ('Marrakech', 'LOC'), ('Morocco', 'LOC'), ('United Nations Framework Convention on Climate Change', 'ORG'), ('cop-22', 'ORG'), ('Global Climate Action Day on Oceans', 'ORG'), ('Marrakech e prix', 'MISC'), ('Formula E', 'MISC'), ('Africa', 'LOC'), ('Youth leadership event', 'MISC'), ('U.S. exchange programs', 'ORG'), ('Bill Burns', 'PER'), ('World Affairs Councils of America', 'ORG'), ('Renaissance Mayflower Hotel', 'LOC'), ('Washington DC', 'LOC'), ('Asia', 'LOC'), ('Americas', 'LOC'), ('John McCain', 'PER'), ('Stephen Hadley', 'PER'), ('Richard C. Levin', 'PER'), ('Yale University', 'ORG'), ('World Affairs Councils of America', 'ORG'), ('Kelsey Compton', 'PER'), ('Reta Jo Lewis', 'PER'), ('India', 'LOC'), ('Maryland', 'LOC'), (\"Martin O'Malley\", 'PER'), ('Maryland', 'LOC'), ('United States', 'LOC'), ('India', 'LOC'), ('United States', 'ORG'), ('Southern Sudan', 'LOC'), ('Southern Sudan Referendum Commission', 'ORG'), ('ssrc', 'ORG'), ('Southern Sudan Legislative Assembly', 'ORG'), ('Antigua and Barbuda', 'LOC'), ('Bahamas', 'LOC'), ('Barbados', 'LOC'), ('Belize', 'LOC'), ('Commonwealth of Dominica', 'LOC'), ('Dominican Republic', 'LOC'), ('Grenada', 'LOC'), ('Republic of Guyana', 'LOC'), ('Republic of Haiti', 'LOC'), ('Jamaica', 'LOC'), ('St. Kitts and Nevis', 'LOC'), ('St. Lucia', 'LOC'), ('St. Vincent and the Grenadines', 'LOC'), ('Republic of Suriname', 'LOC'), ('Republic of Trinidad and Tobago', 'LOC'), ('United States', 'LOC'), ('Montego Bay', 'LOC'), ('Bridgetown', 'LOC'), ('Caribbean Basin Security Initiative', 'ORG'), ('CBSI', 'ORG'), ('United States', 'ORG'), ('Caribbean', 'LOC'), ('Haiti', 'LOC'), ('Energy and Climate Partnership of the Americas', 'ORG'), ('ecpa', 'ORG'), ('Advancing Sustainable Energy Solutions in the Caribbean initiative', 'ORG'), ('Caribbean Climate Change Adaptation Initiative', 'ORG'), ('University of the West Indies', 'ORG'), ('U.S. universities', 'ORG'), ('United States', 'ORG'), ('Caribbean', 'LOC'), ('United States', 'LOC'), ('Caribbean', 'LOC'), ('U.S. secretary of State', 'PER'), ('International Diaspora Engagement Alliance', 'ORG'), ('IDEA', 'ORG'), ('Caribbean diaspora', 'MISC'), ('caribbean idea marketplace', 'ORG'), ('Caribbean American heritage month', 'MISC')]\n"
     ]
    }
   ],
   "source": [
    "def read_manual_labels(file_path):\n",
    "    manual_labels = []\n",
    "    with open(file_path, \"r\", encoding=\"utf-8\") as f:\n",
    "        for line in f:\n",
    "            # Safely evaluate the line as a tuple\n",
    "            try:\n",
    "                entity = ast.literal_eval(line.strip())\n",
    "                manual_labels.append(entity)  # Append the (text, label) tuple\n",
    "            except (ValueError, SyntaxError) as e:\n",
    "                print(f\"Error parsing entity: {line}, Error: {e}\")\n",
    "\n",
    "    return manual_labels\n",
    "\n",
    "# Example usage (for Obama labels):\n",
    "manual_labels = read_manual_labels(\"../flairData/manual_labeling_obama.csv\")\n",
    "print(manual_labels)"
   ],
   "metadata": {
    "collapsed": false,
    "ExecuteTime": {
     "end_time": "2024-10-21T13:02:06.371790Z",
     "start_time": "2024-10-21T13:02:06.361900Z"
    }
   },
   "id": "666ffbe64f4101f7"
  },
  {
   "cell_type": "code",
   "execution_count": 9,
   "outputs": [],
   "source": [
    "def read_ner_results(file_path, max_lines=None):\n",
    "    ner_results = []\n",
    "    with open(file_path, \"r\", encoding=\"utf-8\") as f:\n",
    "        reader = csv.reader(f)\n",
    "        next(reader)  # Skip the header line 'publish_date,entities'\n",
    "\n",
    "        for i, row in enumerate(reader):\n",
    "            if max_lines is not None and i >= max_lines:\n",
    "                break  # Stop if we reach the specified line limit\n",
    "            if len(row) < 2:\n",
    "                continue  # Skip if the row is malformed or incomplete\n",
    "\n",
    "            entities_str = row[1]  # We're only interested in the second column, which contains the entities\n",
    "            try:\n",
    "                # Safely evaluate the string containing the list of entities\n",
    "                entities = ast.literal_eval(entities_str)\n",
    "                ner_results.extend([(entity['text'], entity['label']) for entity in entities])  # Add (text, label) tuples\n",
    "            except (ValueError, SyntaxError) as e:\n",
    "                print(f\"Error parsing entity: {entities_str}, Error: {e}\")\n",
    "\n",
    "    return ner_results"
   ],
   "metadata": {
    "collapsed": false,
    "ExecuteTime": {
     "end_time": "2024-10-21T13:02:08.966220Z",
     "start_time": "2024-10-21T13:02:08.961045Z"
    }
   },
   "id": "c6061a7d96cbe6f4"
  },
  {
   "cell_type": "code",
   "execution_count": 10,
   "outputs": [],
   "source": [
    "# Evaluation function remains the same\n",
    "def evaluate_ner(manual_labels, ner_results):\n",
    "    manual_set = set(manual_labels)\n",
    "    ner_set = set(ner_results)\n",
    "\n",
    "    true_positives = manual_set & ner_set\n",
    "    false_positives = ner_set - manual_set\n",
    "    false_negatives = manual_set - ner_set\n",
    "\n",
    "    precision = len(true_positives) / (len(true_positives) + len(false_positives)) if len(ner_set) > 0 else 0\n",
    "    recall = len(true_positives) / (len(true_positives) + len(false_negatives)) if len(manual_set) > 0 else 0\n",
    "    f1 = 2 * precision * recall / (precision + recall) if precision + recall > 0 else 0\n",
    "\n",
    "    return precision, recall, f1"
   ],
   "metadata": {
    "collapsed": false,
    "ExecuteTime": {
     "end_time": "2024-10-21T13:02:09.652907Z",
     "start_time": "2024-10-21T13:02:09.651005Z"
    }
   },
   "id": "497f1b2b6bc98c24"
  },
  {
   "cell_type": "code",
   "execution_count": 11,
   "outputs": [
    {
     "name": "stdout",
     "output_type": "stream",
     "text": [
      "Evaluating Biden NER Results:\n",
      "Precision: 0.5618\n",
      "Recall:    0.6993\n",
      "F1 Score:  0.6231\n",
      "----------------------------------------\n",
      "Evaluating Obama NER Results:\n",
      "Precision: 0.3412\n",
      "Recall:    0.5088\n",
      "F1 Score:  0.4085\n",
      "----------------------------------------\n",
      "Evaluating Trump NER Results:\n",
      "Precision: 0.5733\n",
      "Recall:    0.6615\n",
      "F1 Score:  0.6143\n",
      "----------------------------------------\n"
     ]
    }
   ],
   "source": [
    "# Paths to the files (adjusted to the naming scheme in the screenshot)\n",
    "file_pairs = [\n",
    "    (\"../flairData/manual_labeling_biden.csv\", \"../flairData/ner_results_biden.csv\"),\n",
    "    (\"../flairData/manual_labeling_obama.csv\", \"../flairData/ner_results_obama.csv\"),\n",
    "    (\"../flairData/manual_labeling_trump.csv\", \"../flairData/ner_results_trump.csv\")\n",
    "]\n",
    "\n",
    "# Evaluate and print the results for each file pair\n",
    "for manual_file, ner_file in file_pairs:\n",
    "    president = manual_file.split('_')[-1].split('.')[0].capitalize()  # Extracting 'Biden', 'Obama', 'Trump'\n",
    "    \n",
    "    # Reading manual labels and NER results using the existing functions\n",
    "    manual_labels = read_manual_labels(manual_file)\n",
    "    ner_results = read_ner_results(ner_file, 10)\n",
    "\n",
    "    # Evaluate the performance\n",
    "    precision, recall, f1 = evaluate_ner(manual_labels, ner_results)\n",
    "\n",
    "    # Print the evaluation results in a nice format\n",
    "    print(f\"Evaluating {president} NER Results:\")\n",
    "    print(f\"Precision: {precision:.4f}\")\n",
    "    print(f\"Recall:    {recall:.4f}\")\n",
    "    print(f\"F1 Score:  {f1:.4f}\")\n",
    "    print(\"-\" * 40)"
   ],
   "metadata": {
    "collapsed": false,
    "ExecuteTime": {
     "end_time": "2024-10-21T13:02:10.651219Z",
     "start_time": "2024-10-21T13:02:10.493614Z"
    }
   },
   "id": "85955debea74fbcd"
  }
 ],
 "metadata": {
  "kernelspec": {
   "display_name": "Python 3",
   "language": "python",
   "name": "python3"
  },
  "language_info": {
   "codemirror_mode": {
    "name": "ipython",
    "version": 2
   },
   "file_extension": ".py",
   "mimetype": "text/x-python",
   "name": "python",
   "nbconvert_exporter": "python",
   "pygments_lexer": "ipython2",
   "version": "2.7.6"
  }
 },
 "nbformat": 4,
 "nbformat_minor": 5
}
