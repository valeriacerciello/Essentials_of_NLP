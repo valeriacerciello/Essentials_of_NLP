{
 "cells": [
  {
   "cell_type": "markdown",
   "metadata": {},
   "source": [
    "# Data Cleaning"
   ]
  },
  {
   "cell_type": "code",
   "execution_count": 9,
   "metadata": {},
   "outputs": [],
   "source": [
    "import json\n",
    "import os\n",
    "import string"
   ]
  },
  {
   "cell_type": "code",
   "execution_count": 10,
   "metadata": {},
   "outputs": [],
   "source": [
    "with open(\"../data/raw/all_obama_press_statements_sec_of_state_v2.json\", \"r\") as obama_file:\n",
    "    obama_data = json.load(obama_file) \n",
    "\n",
    "with open(\"../data/raw/all_trump_press_statements_sec_of_state.json\", \"r\") as trump_file:\n",
    "    trump_data = json.load(trump_file)\n",
    "\n",
    "with open(\"../data/raw/all_biden_press_statements_sec_of_state_v2.json\", \"r\") as biden_file:\n",
    "    biden_data = json.load(biden_file)"
   ]
  },
  {
   "cell_type": "code",
   "execution_count": 11,
   "metadata": {},
   "outputs": [
    {
     "name": "stdout",
     "output_type": "stream",
     "text": [
      "Biden fields: {'date', 'text', 'tags', 'document_type', 'title', 'type_of_release', 'link', 'page_url', 'publish_date', 'document_author', 'title_of_release'}\n",
      "Obama fields: {'text', 'tags', 'document_type', 'title', 'document_author_title', 'link', 'document_author_name', 'publish_date', 'document_author', 'title_of_release'}\n",
      "Trump fields: {'date', 'text', 'tags', 'document_type', 'title', 'type_of_release', 'link', 'page_url', 'publish_date', 'document_author', 'title_of_release'}\n"
     ]
    }
   ],
   "source": [
    "def find_fields(data):\n",
    "    fields = set()\n",
    "    for entry in data:\n",
    "        fields.update(entry.keys())\n",
    "    return fields\n",
    "\n",
    "biden_fields = find_fields(biden_data)\n",
    "obama_fields = find_fields(obama_data)\n",
    "trump_fields = find_fields(trump_data)\n",
    "\n",
    "print(\"Biden fields:\", biden_fields)\n",
    "print(\"Obama fields:\", obama_fields)\n",
    "print(\"Trump fields:\", trump_fields)"
   ]
  },
  {
   "cell_type": "markdown",
   "metadata": {},
   "source": [
    "We should check for missing values in common fields across all datasets.\n",
    "\n",
    "Common fields:\n",
    "- title_of_release\n",
    "- document_author\n",
    "- document_type\n",
    "- publish_date\n",
    "- text\n",
    "- tags\n",
    "- link"
   ]
  },
  {
   "cell_type": "code",
   "execution_count": 12,
   "metadata": {},
   "outputs": [
    {
     "name": "stdout",
     "output_type": "stream",
     "text": [
      "Biden cleaned entries: 7737\n",
      "Obama cleaned entries: 15712\n",
      "Trump cleaned entries: 7464\n"
     ]
    }
   ],
   "source": [
    "def keep_common_fields(data, common_fields):\n",
    "    cleaned_data = []\n",
    "    for entry in data:\n",
    "        cleaned_entry = {field: entry.get(field, \"Unknown\") for field in common_fields}\n",
    "        cleaned_data.append(cleaned_entry)\n",
    "    return cleaned_data\n",
    "\n",
    "common_fields = ['title_of_release', 'document_author', 'document_type', 'publish_date', 'text', 'tags', 'link']\n",
    "\n",
    "biden_cleaned = keep_common_fields(biden_data, common_fields)\n",
    "obama_cleaned = keep_common_fields(obama_data, common_fields)\n",
    "trump_cleaned = keep_common_fields(trump_data, common_fields)\n",
    "\n",
    "print(f\"Biden cleaned entries: {len(biden_cleaned)}\")\n",
    "print(f\"Obama cleaned entries: {len(obama_cleaned)}\")\n",
    "print(f\"Trump cleaned entries: {len(trump_cleaned)}\")"
   ]
  },
  {
   "cell_type": "markdown",
   "metadata": {},
   "source": [
    "I decided to drop all non common fields (those that are not in common are not so important for our analysis) and to fill empty entries with \"Unknown\" value"
   ]
  },
  {
   "cell_type": "code",
   "execution_count": 13,
   "metadata": {},
   "outputs": [],
   "source": [
    "def remove_punctuation_from_list(text_list):\n",
    "    return [remove_punctuation(text) for text in text_list]\n",
    "\n",
    "obama_cleaned = [remove_punctuation_from_list(entry['text']) for entry in obama_cleaned]\n",
    "trump_cleaned = [remove_punctuation_from_list(entry['text']) for entry in trump_cleaned]\n",
    "biden_cleaned = [remove_punctuation_from_list(entry['text']) for entry in biden_cleaned]"
   ]
  },
  {
   "cell_type": "code",
   "execution_count": 14,
   "metadata": {},
   "outputs": [],
   "source": [
    "os.makedirs('../data/cleaned', exist_ok=True)"
   ]
  },
  {
   "cell_type": "code",
   "execution_count": 15,
   "metadata": {},
   "outputs": [],
   "source": [
    "with open('../data/cleaned/cleaned_obama_data.json', 'w') as f:\n",
    "    json.dump(obama_cleaned, f)\n",
    "\n",
    "# Save cleaned Trump dataset\n",
    "with open('../data/cleaned/cleaned_trump_data.json', 'w') as f:\n",
    "    json.dump(trump_cleaned, f)\n",
    "\n",
    "with open('../data/cleaned/cleaned_biden_data.json', 'w') as f:\n",
    "    json.dump(biden_cleaned, f)\n"
   ]
  },
  {
   "cell_type": "code",
   "execution_count": null,
   "metadata": {},
   "outputs": [],
   "source": []
  }
 ],
 "metadata": {
  "kernelspec": {
   "display_name": "base",
   "language": "python",
   "name": "python3"
  },
  "language_info": {
   "codemirror_mode": {
    "name": "ipython",
    "version": 3
   },
   "file_extension": ".py",
   "mimetype": "text/x-python",
   "name": "python",
   "nbconvert_exporter": "python",
   "pygments_lexer": "ipython3",
   "version": "3.12.5"
  }
 },
 "nbformat": 4,
 "nbformat_minor": 2
}
