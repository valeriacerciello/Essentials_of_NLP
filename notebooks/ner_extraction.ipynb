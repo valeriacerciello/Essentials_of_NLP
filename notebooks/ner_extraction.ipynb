{
 "cells": [
  {
   "cell_type": "markdown",
   "metadata": {},
   "source": [
    "We will use a pre-trained NER model from Hugging Face, specifically dbmdz/bert-large-cased-finetuned-conll03-english which is a pre-trained BERT model fine-tuned specifically for Named Entity Recognition (NER) on the CoNLL-03 dataset. It recognizes entities like PER (Person), ORG (Organization), LOC (Location), and MISC (Miscellaneous).\n",
    "\n",
    "https://www.aimodels.fyi/models/huggingFace/bert-large-cased-finetuned-conll03-english-dbmdz\n",
    "\n",
    "We’ll apply the model to our preprocessed text to extract entities such as persons, organizations, locations, and other entities."
   ]
  },
  {
   "cell_type": "code",
   "execution_count": null,
   "metadata": {},
   "outputs": [],
   "source": [
    "from transformers import pipeline\n",
    "import pandas as pd\n",
    "from tqdm import tqdm"
   ]
  },
  {
   "cell_type": "code",
   "execution_count": null,
   "metadata": {},
   "outputs": [],
   "source": [
    "ner_model = pipeline(\"ner\", model=\"dbmdz/bert-large-cased-finetuned-conll03-english\", aggregation_strategy=\"simple\", device=0)"
   ]
  },
  {
   "cell_type": "markdown",
   "metadata": {},
   "source": [
    "this is expected behavior for the pre-trained NER model. \n",
    "The warning simply means that the weights related to tasks other than NER (like sequence classification) are not being used, which is correct for our purpose of NER."
   ]
  },
  {
   "cell_type": "code",
   "execution_count": 3,
   "metadata": {},
   "outputs": [],
   "source": [
    "df_obama = pd.read_json('../data/preprocessed/obama_preprocessed.json', lines=True)\n",
    "df_trump = pd.read_json('../data/preprocessed/trump_preprocessed.json', lines=True)\n",
    "df_biden = pd.read_json('../data/preprocessed/biden_preprocessed.json', lines=True)"
   ]
  },
  {
   "cell_type": "code",
   "execution_count": 4,
   "metadata": {},
   "outputs": [],
   "source": [
    "def extract_entities(texts):\n",
    "    entities_list = []\n",
    "    for text in tqdm(texts, desc=\"Processing NER\", ncols=100):\n",
    "        entities = ner_model(text)\n",
    "        entities_list.append([(ent['word'], ent['entity_group']) for ent in entities])\n",
    "    return entities_list"
   ]
  },
  {
   "cell_type": "code",
   "execution_count": null,
   "metadata": {},
   "outputs": [],
   "source": [
    "df_obama['entities'] = extract_entities(df_obama['processed_text'])\n",
    "df_obama.to_json('../data/entities/obama_entities.json', orient='records', lines=True)\n",
    "print(\"NER applied and entities saved for Obama dataset.\")"
   ]
  },
  {
   "cell_type": "code",
   "execution_count": null,
   "metadata": {},
   "outputs": [],
   "source": []
  }
 ],
 "metadata": {
  "kernelspec": {
   "display_name": "Python 3",
   "language": "python",
   "name": "python3"
  },
  "language_info": {
   "codemirror_mode": {
    "name": "ipython",
    "version": 3
   },
   "file_extension": ".py",
   "mimetype": "text/x-python",
   "name": "python",
   "nbconvert_exporter": "python",
   "pygments_lexer": "ipython3",
   "version": "3.12.5"
  }
 },
 "nbformat": 4,
 "nbformat_minor": 2
}
