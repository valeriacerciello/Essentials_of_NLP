{
 "cells": [
  {
   "cell_type": "markdown",
   "metadata": {},
   "source": [
    "We will use a pre-trained NER model from Hugging Face, specifically dbmdz/bert-large-cased-finetuned-conll03-english which is a pre-trained BERT model fine-tuned specifically for Named Entity Recognition (NER) on the CoNLL-03 dataset. It recognizes entities like PER (Person), ORG (Organization), LOC (Location), and MISC (Miscellaneous).\n",
    "\n",
    "https://www.aimodels.fyi/models/huggingFace/bert-large-cased-finetuned-conll03-english-dbmdz\n",
    "\n",
    "We’ll apply the model to our preprocessed text to extract entities such as persons, organizations, locations, and other entities."
   ]
  },
  {
   "cell_type": "code",
   "execution_count": 18,
   "metadata": {},
   "outputs": [],
   "source": [
    "from transformers import pipeline\n",
    "import pandas as pd\n",
    "from tqdm import tqdm"
   ]
  },
  {
   "cell_type": "code",
   "execution_count": 17,
   "metadata": {},
   "outputs": [
    {
     "data": {
      "application/vnd.jupyter.widget-view+json": {
       "model_id": "90de8652d52944ab829e8d0217352dfa",
       "version_major": 2,
       "version_minor": 0
      },
      "text/plain": [
       "Downloading config.json:   0%|          | 0.00/954 [00:00<?, ?B/s]"
      ]
     },
     "metadata": {},
     "output_type": "display_data"
    },
    {
     "data": {
      "application/vnd.jupyter.widget-view+json": {
       "model_id": "92f8211b36c1402ebfe72356a0ee5485",
       "version_major": 2,
       "version_minor": 0
      },
      "text/plain": [
       "Downloading model.safetensors:   0%|          | 0.00/261M [00:00<?, ?B/s]"
      ]
     },
     "metadata": {},
     "output_type": "display_data"
    },
    {
     "data": {
      "application/vnd.jupyter.widget-view+json": {
       "model_id": "f12b29d6370d430794e01ef59d881706",
       "version_major": 2,
       "version_minor": 0
      },
      "text/plain": [
       "Downloading tokenizer_config.json:   0%|          | 0.00/257 [00:00<?, ?B/s]"
      ]
     },
     "metadata": {},
     "output_type": "display_data"
    },
    {
     "data": {
      "application/vnd.jupyter.widget-view+json": {
       "model_id": "064d3a201bac49d6bc0985c16d0f42f3",
       "version_major": 2,
       "version_minor": 0
      },
      "text/plain": [
       "Downloading vocab.txt:   0%|          | 0.00/213k [00:00<?, ?B/s]"
      ]
     },
     "metadata": {},
     "output_type": "display_data"
    },
    {
     "data": {
      "application/vnd.jupyter.widget-view+json": {
       "model_id": "323aaafe6cd340d18ccac9f6a3438356",
       "version_major": 2,
       "version_minor": 0
      },
      "text/plain": [
       "Downloading (…)cial_tokens_map.json:   0%|          | 0.00/112 [00:00<?, ?B/s]"
      ]
     },
     "metadata": {},
     "output_type": "display_data"
    }
   ],
   "source": [
    "#ner_model = pipeline(\"ner\", \n",
    "#                     model=\"dbmdz/bert-large-cased-finetuned-conll03-english\", \n",
    "#                     aggregation_strategy=\"simple\")\n",
    "\n",
    "ner_model = pipeline(\"ner\", \n",
    "                     model=\"elastic/distilbert-base-cased-finetuned-conll03-english\",  # DistilBERT pre-trained on CoNLL-03 NER\n",
    "                     aggregation_strategy=\"simple\")"
   ]
  },
  {
   "cell_type": "markdown",
   "metadata": {},
   "source": [
    "this is expected behavior for the pre-trained NER model. \n",
    "The warning simply means that the weights related to tasks other than NER (like sequence classification) are not being used, which is correct for our purpose of NER."
   ]
  },
  {
   "cell_type": "code",
   "execution_count": 19,
   "metadata": {},
   "outputs": [
    {
     "name": "stdout",
     "output_type": "stream",
     "text": [
      "15712\n"
     ]
    }
   ],
   "source": [
    "df_obama = pd.read_json('../data/preprocessed/obama_preprocessed.json', lines=True)\n",
    "#df_trump = pd.read_json('../data/preprocessed/trump_preprocessed.json', lines=True)\n",
    "#df_biden = pd.read_json('../data/preprocessed/biden_preprocessed.json', lines=True)\n",
    "print(len(df_obama))\n",
    "df_obama = df_obama[['publish_date', 'processed_text']].head(1000)  # Only process the first 20 speeches\n"
   ]
  },
  {
   "cell_type": "code",
   "execution_count": 21,
   "metadata": {},
   "outputs": [],
   "source": [
    "def extract_entities(texts):\n",
    "    entities_list = []\n",
    "    for text in tqdm(texts, desc=\"Processing NER\", ncols=100):\n",
    "        entities = ner_model(text)\n",
    "        entities_list.append([(ent['word'], ent['entity_group']) for ent in entities])\n",
    "    return entities_list"
   ]
  },
  {
   "cell_type": "code",
   "execution_count": 22,
   "metadata": {},
   "outputs": [
    {
     "name": "stderr",
     "output_type": "stream",
     "text": [
      "Processing NER: 100%|███████████████████████████████████████████| 1000/1000 [03:07<00:00,  5.32it/s]"
     ]
    },
    {
     "name": "stdout",
     "output_type": "stream",
     "text": [
      "NER applied and entities saved for Obama dataset.\n"
     ]
    },
    {
     "name": "stderr",
     "output_type": "stream",
     "text": [
      "\n"
     ]
    }
   ],
   "source": [
    "df_obama['entities'] = extract_entities(df_obama['processed_text'])\n",
    "df_obama = df_obama.drop(columns=['processed_text'])\n",
    "\n",
    "df_obama.to_json('../data/entities/DistilBERTobama_entities.json', orient='records', lines=True)\n",
    "print(\"NER applied and entities saved for Obama dataset.\")"
   ]
  },
  {
   "cell_type": "code",
   "execution_count": null,
   "metadata": {},
   "outputs": [],
   "source": []
  }
 ],
 "metadata": {
  "kernelspec": {
   "display_name": "Python 3",
   "language": "python",
   "name": "python3"
  },
  "language_info": {
   "codemirror_mode": {
    "name": "ipython",
    "version": 3
   },
   "file_extension": ".py",
   "mimetype": "text/x-python",
   "name": "python",
   "nbconvert_exporter": "python",
   "pygments_lexer": "ipython3",
   "version": "3.11.5"
  }
 },
 "nbformat": 4,
 "nbformat_minor": 2
}
