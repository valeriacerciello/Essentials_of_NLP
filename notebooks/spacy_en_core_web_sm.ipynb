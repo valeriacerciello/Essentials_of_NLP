{
 "cells": [
  {
   "cell_type": "markdown",
   "metadata": {},
   "source": [
    "## en_core_web_sm"
   ]
  },
  {
   "cell_type": "code",
   "execution_count": 1,
   "metadata": {},
   "outputs": [],
   "source": [
    "import json\n",
    "import spacy\n",
    "import os\n",
    "import time\n",
    "import string"
   ]
  },
  {
   "cell_type": "code",
   "execution_count": 2,
   "metadata": {},
   "outputs": [],
   "source": [
    "nlp = spacy.load(\"en_core_web_sm\")"
   ]
  },
  {
   "cell_type": "code",
   "execution_count": 3,
   "metadata": {},
   "outputs": [],
   "source": [
    "os.makedirs('../data/tokenized/SpaCy/en_core_web_sm', exist_ok=True)"
   ]
  },
  {
   "cell_type": "markdown",
   "metadata": {},
   "source": [
    "I remove punctuation before applying the NER model to avoid unnecessary tokens"
   ]
  },
  {
   "cell_type": "code",
   "execution_count": 4,
   "metadata": {},
   "outputs": [],
   "source": [
    "def remove_punctuation(text):\n",
    "    return text.translate(str.maketrans(\"\", \"\", string.punctuation))"
   ]
  },
  {
   "cell_type": "markdown",
   "metadata": {},
   "source": [
    "I lowercase most of the text, but keeping named entities in their original form  "
   ]
  },
  {
   "cell_type": "code",
   "execution_count": 5,
   "metadata": {},
   "outputs": [],
   "source": [
    "def lowercase_non_entities(doc):\n",
    "    return \" \".join([token.text.lower() if not token.ent_type_ else token.text for token in doc])\n"
   ]
  },
  {
   "cell_type": "code",
   "execution_count": 6,
   "metadata": {},
   "outputs": [],
   "source": [
    "def preprocess_data_phrases(dataset, batch_size=1000):\n",
    "    tokenized_phrases = []\n",
    "    \n",
    "    for doc in nlp.pipe([ \" \".join(entry['text']) if isinstance(entry['text'], list) else entry['text'] for entry in dataset], batch_size=batch_size):\n",
    "        cleaned_text = remove_punctuation(doc.text)\n",
    "        processed_doc = nlp(cleaned_text)\n",
    "        \n",
    "        phrases = [chunk.text for chunk in processed_doc.noun_chunks]\n",
    "        \n",
    "        lowercased_phrases = [lowercase_non_entities(nlp(phrase)) for phrase in phrases]\n",
    "        \n",
    "        tokenized_phrases.append(lowercased_phrases)\n",
    "    \n",
    "    return tokenized_phrases"
   ]
  },
  {
   "cell_type": "markdown",
   "metadata": {},
   "source": [
    "I used nlp.pipe to process data in batches for better performace on our large datasets"
   ]
  },
  {
   "cell_type": "code",
   "execution_count": 7,
   "metadata": {},
   "outputs": [],
   "source": [
    "with open('../data/cleaned/cleaned_biden_data.json', 'r') as f:\n",
    "    biden_data = json.load(f)\n",
    "\n",
    "with open('../data/cleaned/cleaned_obama_data.json', 'r') as f:\n",
    "    obama_data = json.load(f)\n",
    "\n",
    "with open('../data/cleaned/cleaned_trump_data.json', 'r') as f:\n",
    "    trump_data = json.load(f)"
   ]
  },
  {
   "cell_type": "code",
   "execution_count": 8,
   "metadata": {},
   "outputs": [],
   "source": [
    "start_time = time.time()"
   ]
  },
  {
   "cell_type": "code",
   "execution_count": 9,
   "metadata": {},
   "outputs": [],
   "source": [
    "print(\"Processing Biden dataset...\")\n",
    "biden_preprocessed_phrases = preprocess_data_phrases(biden_data)\n",
    "with open('../data/tokenized/SpaCy/en_core_web_sm/preprocessed_biden_phrases_sm.json', 'w') as f:\n",
    "    json.dump(biden_preprocessed_phrases, f)"
   ]
  },
  {
   "cell_type": "code",
   "execution_count": null,
   "metadata": {},
   "outputs": [],
   "source": [
    "print(\"Processing Obama dataset...\")\n",
    "obama_preprocessed_phrases = preprocess_data_phrases(obama_data)\n",
    "with open('../data/tokenized/SpaCy/en_core_web_sm/preprocessed_obama_phrases_sm.json', 'w') as f:\n",
    "    json.dump(obama_preprocessed_phrases, f)"
   ]
  },
  {
   "cell_type": "code",
   "execution_count": null,
   "metadata": {},
   "outputs": [],
   "source": [
    "print(\"Processing Trump dataset...\")\n",
    "trump_preprocessed_phrases = preprocess_data_phrases(trump_data)\n",
    "with open('../data/tokenized/SpaCy/en_core_web_sm/preprocessed_trump_phrases_sm.json', 'w') as f:\n",
    "    json.dump(trump_preprocessed_phrases, f)"
   ]
  },
  {
   "cell_type": "code",
   "execution_count": null,
   "metadata": {},
   "outputs": [],
   "source": [
    "end_time = time.time()\n",
    "print(f\"Preprocessing completed in {end_time - start_time} seconds\")"
   ]
  }
 ],
 "metadata": {
  "kernelspec": {
   "display_name": "Python 3",
   "language": "python",
   "name": "python3"
  },
  "language_info": {
   "codemirror_mode": {
    "name": "ipython",
    "version": 3
   },
   "file_extension": ".py",
   "mimetype": "text/x-python",
   "name": "python",
   "nbconvert_exporter": "python",
   "pygments_lexer": "ipython3",
   "version": "3.12.5"
  }
 },
 "nbformat": 4,
 "nbformat_minor": 2
}
