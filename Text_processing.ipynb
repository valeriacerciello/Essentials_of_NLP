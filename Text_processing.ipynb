{
 "cells": [
  {
   "cell_type": "code",
   "execution_count": 1,
   "metadata": {},
   "outputs": [],
   "source": [
    "from transformers import AutoModelForTokenClassification, AutoTokenizer \n",
    "import torch\n",
    "from transformers import AutoTokenizer, AutoModelForTokenClassification \n",
    "from transformers import pipeline\n",
    "import json\n",
    "import time"
   ]
  },
  {
   "cell_type": "code",
   "execution_count": 6,
   "metadata": {},
   "outputs": [
    {
     "name": "stdout",
     "output_type": "stream",
     "text": [
      "Number of documents in the corpus:  7737\n",
      "First document in the corpus:  [\"Under Secretary of State for Economic Growth, Energy and the Environment Jose W. Fernandez will travel to Chile, Uruguay and Paraguay November 5-11, 2023, to deepen economic cooperation and strengthen strategic partnerships.  During his visit, he will meet foreign government counterparts and private sector leaders on priority topics including critical minerals, clean energy, trade and investment, technology, health, and the environment. In Chile and Uruguay, Under Secretary Fernandez will follow up on the inaugural Leaders' Summit  of the Americas Partnership for Economic Prosperity (Americas Partnership), which President Biden hosted at the White House on November 3.\", \"In Santiago, Chile, November 5-7, Under Secretary Fernandez will meet with business leaders and government officials to discuss the new financing tools the President announced at the Americas Partnership Summit, bolster trade and investment, support Chile's ICT infrastructure, advance cooperation in APEC ahead of the November 15-17 APEC Economic Leaders' Meeting in San Francisco, and strengthen critical mineral supply chains to accelerate the clean energy transition.  Under Secretary Fernandez will also provide keynote remarks and participate in a panel on critical minerals at the Wilson Center Conference on US-Chile Climate Action and the Energy Transition.\", \"Under Secretary Fernandez will visit Montevideo, Uruguay, on November 8 to follow up on the Americas Partnership Summit, particularly President Biden's announcement of a new regional accelerator for entrepreneurs.  He will also meet member countries at the Latin American Energy Organization (OLADE) Energy Week Ministerial, where he will explore areas of partnership to strengthen green energy cooperation, tackle environmental challenges, and expand investment in Latin America's energy transition.  He will also provide remarks at the International Renewable Energy Agency (IRENA) Latin America Energy Transition Investment Forum and meet with key partners in the Uruguayan government.\", 'In Asuncion, Paraguay, November 9-10, Under Secretary Fernandez will meet with government officials to discuss deepening trade and investment, supporting communication technology infrastructure, and addressing shared environmental concerns.  He will also meet with farmers and producers to discuss sustainable agriculture and new techniques to increase food-system resilience.', 'To stay up to date, follow Under Secretary Fernandez on Twitter: @State_E, Facebook: @StateDeptE, and LinkedIn: @State-E.', 'For press inquiries, please contact: E_Communications@state.gov.']\n"
     ]
    }
   ],
   "source": [
    "# Load the corpus .json file\n",
    "biden_corpus = json.load(open('./data/all_biden_press_statements_sec_of_state_v2.json'))\n",
    "\n",
    "print(\"Number of documents in the corpus: \", len(biden_corpus))\n",
    "print(\"First document in the corpus: \", biden_corpus[0]['text'])"
   ]
  },
  {
   "cell_type": "code",
   "execution_count": 3,
   "metadata": {},
   "outputs": [],
   "source": [
    "from transformers import AutoTokenizer\n",
    "\n",
    "tokenizer = AutoTokenizer.from_pretrained(\"distilbert/distilbert-base-uncased\")"
   ]
  }
 ],
 "metadata": {
  "kernelspec": {
   "display_name": "base",
   "language": "python",
   "name": "python3"
  },
  "language_info": {
   "codemirror_mode": {
    "name": "ipython",
    "version": 3
   },
   "file_extension": ".py",
   "mimetype": "text/x-python",
   "name": "python",
   "nbconvert_exporter": "python",
   "pygments_lexer": "ipython3",
   "version": "3.11.5"
  }
 },
 "nbformat": 4,
 "nbformat_minor": 2
}
